{
 "cells": [
  {
   "cell_type": "code",
   "execution_count": 1,
   "id": "270afbc8",
   "metadata": {},
   "outputs": [],
   "source": [
    "import numpy as np"
   ]
  },
  {
   "cell_type": "markdown",
   "id": "57728c11",
   "metadata": {},
   "source": [
    "- агрегирование \n",
    "\n",
    "Агрегирование - вычисление неких сводных показателей"
   ]
  },
  {
   "cell_type": "code",
   "execution_count": 2,
   "id": "a3b5c6ed",
   "metadata": {},
   "outputs": [
    {
     "data": {
      "text/plain": [
       "array([0.09837916, 0.68862491, 0.78326793, 0.02049048, 0.82538947,\n",
       "       0.52915712, 0.12417829, 0.88269363, 0.98571716, 0.46649128])"
      ]
     },
     "execution_count": 2,
     "metadata": {},
     "output_type": "execute_result"
    }
   ],
   "source": [
    "arr_1 = np.random.random(10)\n",
    "arr_1"
   ]
  },
  {
   "cell_type": "code",
   "execution_count": 4,
   "id": "8fb2b6fd",
   "metadata": {},
   "outputs": [],
   "source": [
    "# все ли значения отвечают условию\n",
    "# имеется ли в массиве значения отвечающие условиям"
   ]
  },
  {
   "cell_type": "code",
   "execution_count": 5,
   "id": "1fad9acf",
   "metadata": {},
   "outputs": [
    {
     "data": {
      "text/plain": [
       "array([[0, 1],\n",
       "       [2, 3],\n",
       "       [4, 5],\n",
       "       [6, 7],\n",
       "       [8, 9]])"
      ]
     },
     "execution_count": 5,
     "metadata": {},
     "output_type": "execute_result"
    }
   ],
   "source": [
    "arr_3 = np.arange(10).reshape((5,2))\n",
    "arr_3"
   ]
  },
  {
   "cell_type": "code",
   "execution_count": null,
   "id": "0e8227c0",
   "metadata": {},
   "outputs": [],
   "source": []
  },
  {
   "cell_type": "code",
   "execution_count": null,
   "id": "172dfc3d",
   "metadata": {},
   "outputs": [],
   "source": []
  },
  {
   "cell_type": "code",
   "execution_count": 6,
   "id": "7deed5da",
   "metadata": {},
   "outputs": [
    {
     "data": {
      "text/plain": [
       "array([ True,  True])"
      ]
     },
     "execution_count": 6,
     "metadata": {},
     "output_type": "execute_result"
    }
   ],
   "source": [
    "np.any(arr_3 > 7, axis=0)"
   ]
  },
  {
   "cell_type": "code",
   "execution_count": 7,
   "id": "b8e5487c",
   "metadata": {},
   "outputs": [
    {
     "data": {
      "text/plain": [
       "array([False, False, False, False,  True])"
      ]
     },
     "execution_count": 7,
     "metadata": {},
     "output_type": "execute_result"
    }
   ],
   "source": [
    "np.any(arr_3 > 7, axis=1)"
   ]
  },
  {
   "cell_type": "code",
   "execution_count": 9,
   "id": "e69351a8",
   "metadata": {},
   "outputs": [
    {
     "data": {
      "text/plain": [
       "array([ True,  True])"
      ]
     },
     "execution_count": 9,
     "metadata": {},
     "output_type": "execute_result"
    }
   ],
   "source": [
    "np.any(arr_3 < 5, axis=0)"
   ]
  },
  {
   "cell_type": "markdown",
   "id": "473dea0b",
   "metadata": {},
   "source": [
    "- маскирование "
   ]
  },
  {
   "cell_type": "code",
   "execution_count": 11,
   "id": "a206b482",
   "metadata": {},
   "outputs": [
    {
     "data": {
      "text/plain": [
       "array([2, 6, 3, 8, 2])"
      ]
     },
     "execution_count": 11,
     "metadata": {},
     "output_type": "execute_result"
    }
   ],
   "source": [
    "arr_4 = np.random.randint(10, size=5)\n",
    "arr_4"
   ]
  },
  {
   "cell_type": "code",
   "execution_count": 12,
   "id": "ad4da7f4",
   "metadata": {},
   "outputs": [
    {
     "data": {
      "text/plain": [
       "array([ True, False,  True, False,  True])"
      ]
     },
     "execution_count": 12,
     "metadata": {},
     "output_type": "execute_result"
    }
   ],
   "source": [
    "# маска - массив с булевыми значениями \n",
    "c = arr_4 < 6\n",
    "c"
   ]
  },
  {
   "cell_type": "code",
   "execution_count": 13,
   "id": "f4b1405d",
   "metadata": {},
   "outputs": [
    {
     "data": {
      "text/plain": [
       "array([2, 3, 2])"
      ]
     },
     "execution_count": 13,
     "metadata": {},
     "output_type": "execute_result"
    }
   ],
   "source": [
    "arr_4[c]"
   ]
  },
  {
   "cell_type": "code",
   "execution_count": 18,
   "id": "ebaa7860",
   "metadata": {},
   "outputs": [
    {
     "data": {
      "text/plain": [
       "array([6])"
      ]
     },
     "execution_count": 18,
     "metadata": {},
     "output_type": "execute_result"
    }
   ],
   "source": [
    "# побитовые операторы & = and, | = or\n",
    "arr_4 [(arr_4 > 5) & (arr_4 < 8)]"
   ]
  },
  {
   "cell_type": "code",
   "execution_count": 21,
   "id": "bb0009c3",
   "metadata": {},
   "outputs": [
    {
     "data": {
      "text/plain": [
       "array([2, 6, 3, 2])"
      ]
     },
     "execution_count": 21,
     "metadata": {},
     "output_type": "execute_result"
    }
   ],
   "source": [
    "arr_4[arr_4 != 8]"
   ]
  },
  {
   "cell_type": "code",
   "execution_count": null,
   "id": "029d2ef2",
   "metadata": {},
   "outputs": [],
   "source": []
  },
  {
   "cell_type": "markdown",
   "id": "c96b878a",
   "metadata": {},
   "source": [
    "- прихотливая индексация (fancy indieces)"
   ]
  },
  {
   "cell_type": "code",
   "execution_count": 22,
   "id": "d9b153d8",
   "metadata": {},
   "outputs": [
    {
     "data": {
      "text/plain": [
       "array([10, 11, 12, 13, 14, 15, 16, 17, 18, 19])"
      ]
     },
     "execution_count": 22,
     "metadata": {},
     "output_type": "execute_result"
    }
   ],
   "source": [
    "arr_5 = np.arange(10,20)\n",
    "arr_5"
   ]
  },
  {
   "cell_type": "code",
   "execution_count": 24,
   "id": "8ded1a8a",
   "metadata": {},
   "outputs": [
    {
     "data": {
      "text/plain": [
       "array([13, 10, 15, 17])"
      ]
     },
     "execution_count": 24,
     "metadata": {},
     "output_type": "execute_result"
    }
   ],
   "source": [
    "# с помощью списка индексов\n",
    "arr_5[[3,0,5,7]]"
   ]
  },
  {
   "cell_type": "code",
   "execution_count": 25,
   "id": "3d4522db",
   "metadata": {},
   "outputs": [
    {
     "data": {
      "text/plain": [
       "array([13, 10, 15, 17])"
      ]
     },
     "execution_count": 25,
     "metadata": {},
     "output_type": "execute_result"
    }
   ],
   "source": [
    "# с помощью массива индексов\n",
    "arr_5[np.array([3,0,5,7])]"
   ]
  },
  {
   "cell_type": "code",
   "execution_count": 26,
   "id": "ebf92fe0",
   "metadata": {},
   "outputs": [
    {
     "data": {
      "text/plain": [
       "array([[13, 10, 11],\n",
       "       [11, 11, 15]])"
      ]
     },
     "execution_count": 26,
     "metadata": {},
     "output_type": "execute_result"
    }
   ],
   "source": [
    "# с помошью прихотливой индексации можно менять форму результирующего массива\n",
    "fi = np.array(\n",
    "    [[3,0,1],\n",
    "    [1,1,5]]\n",
    "\n",
    ")\n",
    "arr_5[fi]"
   ]
  },
  {
   "cell_type": "code",
   "execution_count": null,
   "id": "fcac99a0",
   "metadata": {},
   "outputs": [],
   "source": []
  }
 ],
 "metadata": {
  "kernelspec": {
   "display_name": "Python 3",
   "language": "python",
   "name": "python3"
  },
  "language_info": {
   "codemirror_mode": {
    "name": "ipython",
    "version": 3
   },
   "file_extension": ".py",
   "mimetype": "text/x-python",
   "name": "python",
   "nbconvert_exporter": "python",
   "pygments_lexer": "ipython3",
   "version": "3.8.8"
  }
 },
 "nbformat": 4,
 "nbformat_minor": 5
}
